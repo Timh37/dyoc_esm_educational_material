{
 "cells": [
  {
   "cell_type": "markdown",
   "metadata": {},
   "source": [
    "## Assignment 7: Sverdrup transport and temporal variability\n",
    "\n",
    "### Deadline: Wednesday 22nd of March, 11:00 am\n",
    "\n",
    "- For this exercise you will need Jupyter Notebook and the python packages *numpy*, *xarray*, *cartopy* & *matplotlib*, which you probably already installed for the previous exercises. \n",
    "- Hand in the assignment as a single Jupyter Notebook, in PDF format, on Blackboard.\n",
    "- This is an individual assignment. Make sure to include your name and student number in your notebook.\n",
    "- The submission deadline is **Wednesday the 22nd of March** at **11:00 am**.\n",
    "\n",
    "This assignment consists of two parts, in which you will answer several subquestions. In Part 1, you will compute the Sverdrup streamfunction from the wind stress and compare it to satellite data. In Part 2, you will use satellite observations of the sea level to investigate temporal variability in the ocean circulation.\n",
    "\n",
    "Your grade for this assignment will be your number of points divided by 10. You can earn a total of 100 points. The number of points that you can earn for each question is indicated at the start of the question. The quality of your figures will contribute up to 5 points per question, so make sure to include clear figure titels, labels (including units) and legends and use appropriate map projections, colormaps and colorbars. Limit your answer to each question to 50-100 words.  "
   ]
  },
  {
   "cell_type": "markdown",
   "metadata": {},
   "source": [
    "### 7.1 Sverdrup streamfunction"
   ]
  },
  {
   "cell_type": "markdown",
   "metadata": {},
   "source": [
    "In the first part of this assignment, you are going to compute and visualize the Sverdrup streamfunction from the wind stress. As a reminder, the Sverdrup balance is\n",
    "\\begin{equation}\n",
    "    \\beta V = \\frac{\\vec{\\nabla} \\times \\vec{\\tau}}{\\rho}\n",
    "\\end{equation}"
   ]
  },
  {
   "cell_type": "markdown",
   "metadata": {},
   "source": [
    "To start, first download the zonal and meriodional GODAS momentum flux (=wind stress) files for one year and use their time average from here on."
   ]
  },
  {
   "cell_type": "code",
   "execution_count": null,
   "metadata": {},
   "outputs": [],
   "source": []
  },
  {
   "cell_type": "markdown",
   "metadata": {},
   "source": [
    "**[15 points] (a)** Compute the size of the grid cells of the wind stress in the x- and y-directions (dx & dy) and plot them as a function of latitude. Also compute $\\beta$ as a function of latitude and plot it in the same figure with a secondary (twin) y-axis."
   ]
  },
  {
   "cell_type": "code",
   "execution_count": null,
   "metadata": {},
   "outputs": [],
   "source": []
  },
  {
   "cell_type": "markdown",
   "metadata": {},
   "source": [
    "**[15 points] (b)** Make a figure with maps of (1) the resultant of the wind stress and (2) the wind stress curl, which you can compute using the zonal and meridional wind stress components and the dimensions of the grid cells that you already computed. On top of the wind stress curl, plot the wind stress vectors using `plt.quiver()`. \n",
    "\n",
    "Hint: You may need to pass the data to `quiver()` as numpy arrays. If you plot quivers at every grid cell you will not be able to see the wind stress curl anymore!"
   ]
  },
  {
   "cell_type": "code",
   "execution_count": 5,
   "metadata": {},
   "outputs": [],
   "source": []
  },
  {
   "cell_type": "markdown",
   "metadata": {},
   "source": [
    "The Sverdrup streamfunction can be derived from the wind stress curl as follows:\n",
    "$$ \\Psi = -\\frac{1}{\\beta \\rho} \\int_{E}^{W} \\left( \\frac{\\partial \\tau_{y}}{\\partial x}-\\frac{\\partial \\tau_{x}}{\\partial y} \\right) dx$$\n",
    "\n",
    "There are two steps:\n",
    "1. integrate the wind curl from East to West starting at the prime meridian, with the proper longitudinal grid size.\n",
    "2. fix the discontinuity at the prime meridian in the Atlantic.\n",
    "\n",
    "**[25 points] (c)** Compute and plot the Sverdrup streamfunction from the GODAS wind stress. Additionally, explain why you need to integrate the wind stress curl from East to West instead of from West to East.\n",
    "\n",
    "\n",
    "Hints: \n",
    "- You should arrive at a plot similar to the one on the 'Integrating the Sverdrup balance for WBC transport' slide from lecture 7.\n",
    "- Since you are integrating from eastern to western boundaries, you need to 'restart' the integration at grid cells with land.\n",
    "- As always in programming, many roads lead to Rome. We recommend using xarray as much as possible, but you could also use numpy arrays (and then have to keep track of your own indices).\n",
    "- the following code gives an example of how you can fix the prime meridian issue in the Atlantic (in this case for a single latitude, this code easily extends to 2D):\n",
    "```\n",
    "example = xr.DataArray(dims=['lon'],\n",
    "                       coords={'lon':[1,2,3,4,256,257,258,359,360]},\n",
    "                       data=[5,4,2,np.nan,1,0,np.nan,3,0])\n",
    "# data representating:     (East-Atl.)..(S.Amer.)..(West-Atl.)    \n",
    "example.plot()  # here the West-Atlantic starts at 0 in the null meridian\n",
    "da_add = xr.zeros_like(example)\n",
    "da_add[-1] = example[0]\n",
    "for i in np.arange(2,10):  # fixing zero meridian\n",
    "    da_add[-i] += xr.where(np.isnan(example[-i]), np.nan, da_add[-i+1])\n",
    "fixed = (example+xr.where(np.isnan(da_add),0,da_add))\n",
    "fixed.plot()  # now the values continue smoothly across the Atlantic null meridian from East to West \n",
    "```"
   ]
  },
  {
   "cell_type": "code",
   "execution_count": 9,
   "metadata": {},
   "outputs": [],
   "source": []
  },
  {
   "cell_type": "markdown",
   "metadata": {},
   "source": [
    "**[15 points] (d)** Open the mean dynamic topography dataset from Exercise **A04**. Make a figure of the mean dynamic topography. On top of it, draw streamlines of the geostrophic velocities using `matplotlib.pyplot.streamplot` or `xarray.Dataset.plot.streamplot`. Describe the differences and similarities between these streamlines and the Sverdrup streamfunction that you computed (or, if you did not succeed answering question 1c, the one on the Sverdrup streamfunction slide from lecture 7).\n",
    "\n",
    "Hint: it may take a few minutes to plot the streamlines with a cartopy map projection, depending on the density of the streamlines that you choose. You may need to pass the data to `streamplot()` as numpy arrays."
   ]
  },
  {
   "cell_type": "code",
   "execution_count": 22,
   "metadata": {},
   "outputs": [],
   "source": []
  },
  {
   "cell_type": "markdown",
   "metadata": {},
   "source": [
    "### 7.2 Temporal variability"
   ]
  },
  {
   "cell_type": "markdown",
   "metadata": {},
   "source": [
    "So far in this exercise, you have looked at the time-mean wind stress and Sverdrup transport (for a single year) and the time-mean dynamic topography (for multiple years). However, due to variability in the climate system, the ocean circulation varies over time as well (=temporal variability). As you have seen in Exercise **A04**, the sea level, which can be observed globally with satellites, depends on the ocean circulation. Therefore, the temporal variability of the sea level also reflects the temporal variability of ocean dynamics."
   ]
  },
  {
   "cell_type": "markdown",
   "metadata": {},
   "source": [
    "Re-open the monthly mean gridded sea-level anomalies of AVISO over 1995-2015 from exercise **A04**. You may use the lower resolution version provided on Blackboard as well."
   ]
  },
  {
   "cell_type": "markdown",
   "metadata": {},
   "source": [
    "**[10 points] (a)** Compute the standard deviation of the sea level at every ocean grid cell and make a figure. Explain where the standard deviation of the monthly mean sea level is largest and why."
   ]
  },
  {
   "cell_type": "code",
   "execution_count": 2,
   "metadata": {},
   "outputs": [],
   "source": []
  },
  {
   "cell_type": "markdown",
   "metadata": {},
   "source": [
    "The temporal variability also acts on larger timescales than from month to month and year to year. Decadal oscillations in the ocean, for instance, can affect trends in sea level computed over relatively short periods of time.\n",
    "\n",
    "**[20 points] (b)** Compute two linear trends of the sea level at each grid cell, one over the first half of 1995-2015 and one over the second half of 1995-2015, and plot these as two maps.\n",
    "\n",
    "Hint: you can reuse the code that you wrote for exercise **A04**. \n",
    "\n",
    "Make a figure with two subplots of these trends. Compare the two maps and describe the differences that you see. Based on the trends that you plotted, explain what happened to the strength of the Subpolar North Atlantic Gyre over the first and second half of 1995-2015?"
   ]
  },
  {
   "cell_type": "code",
   "execution_count": 5,
   "metadata": {},
   "outputs": [],
   "source": []
  }
 ],
 "metadata": {
  "kernelspec": {
   "display_name": "Python 3 (ipykernel)",
   "language": "python",
   "name": "python3"
  },
  "language_info": {
   "codemirror_mode": {
    "name": "ipython",
    "version": 3
   },
   "file_extension": ".py",
   "mimetype": "text/x-python",
   "name": "python",
   "nbconvert_exporter": "python",
   "pygments_lexer": "ipython3",
   "version": "3.10.6"
  }
 },
 "nbformat": 4,
 "nbformat_minor": 4
}
